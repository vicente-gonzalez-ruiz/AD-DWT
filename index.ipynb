{
 "cells": [
  {
   "cell_type": "markdown",
   "metadata": {},
   "source": [
    "# AD-DWT (Anisotropic Diffusion Discrete Wavelet Transform)\n",
    "\n",
    "Esta transformada intenta reducir la entropía de las subbandas de alta frecuencia de la transformada clásica DWT. \n",
    "\n",
    "Todas las DWTs (la clásica y la AD-DWT) de un nivel transforman, en el caso de una imagen, dicha imagen en 4 subbandas de frequencia: LL, LH, HL, HH, donde L=Low y H=High. Por tanto, LL contiene una versión filtrada y submuestreada de la imagen original, que aquí se la llamado Y, y LH, HL y HH contienen las frecuencias en horizontal, vertical y diagonal de Y, que no están ya en LL.\n",
    "\n",
    "Como ya se ha dicho, la única diferencia entre la DWT (normal) y la AD-DWT es que en esta segunda se usaría ADF (Anisotropic Diffusion Filtering) sobre la subbanda LL para generar una predicción para los coeficientes de las subbandas LH, HL y HH, que en su formato \"extendido\" está representado por H.\n",
    "\n",
    "Como se puede apreciar, la salida de la AD-DWT (como en el resto de transformadas DWT) son 4 subbandas LL, LH, HL y HH, y en principio, salvo errores por redondeo si no se trabaja con aritmética entera, debería ser completamente reversible (esto aquí no se ha comprobado).\n",
    "\n",
    "A continuacion de describe la transformada directa.\n",
    "\n",
    "```\n",
    "                                                                                  +----+\n",
    "                     +--------------------------+-------------------------------->| LL |\n",
    "                     |                      (3) | iDWT                            +----+\n",
    "                     |                          v (LL, 0, 0, 0)\n",
    "+---------+        +-+--+----+             +---------+\n",
    "|         | DWT(Y) | LL | LH |             |\t     |\n",
    "|    Y    |------->+----+----+             |   LL2   |\n",
    "|         |   (1)  | HL | HH |             |\t     |\n",
    "+---------+        +----+----+             +---------+\n",
    "                    (2) | iDWT              (4) | ADF(LL2)\n",
    "                        v (0, LH, HL, HH)       v\n",
    "                   +---------+             +---------+\n",
    "                   |         |             |\t     |\n",
    "                   |    H    |             |   LL2f  |\n",
    "                   |         |             |         |\n",
    "                   +---------+             +---------+\n",
    "                        |                   (5) | DWT(LL2f)\n",
    "                        |                       v\n",
    "                        |                  +----+----+\n",
    "                        |                  | ll | lh |\n",
    "                        |                  +----+----+\n",
    "                        |                  | hl | hh |\n",
    "                        |                  +----+----+\n",
    "                        |                   (6) | iDWT\n",
    "                        |                       v (0, lh, hl, hh)\n",
    "                        |                  +---------+\t\t \n",
    "                        |                  |\t     |\n",
    "                        |                  |    Hf   |----+\n",
    "                        |                  |\t     |    |    +---------+        +----+----+\n",
    "                        |                  +---------+    v    |         | DWT    |  0 | LHf|\n",
    "                        |                            (7) sub ->|   H_Hf  |------->+----+----+\n",
    "                        |                                 ^    |         | (H_Hf) | HLf| HHf|\n",
    "                        |                                 |    +---------+   (8)  +----+----+\n",
    "                        +---------------------------------+\n",
    "\n",
    "```"
   ]
  },
  {
   "cell_type": "code",
   "execution_count": null,
   "metadata": {},
   "outputs": [],
   "source": [
    "import urllib.request\n",
    "import cv2\n",
    "import numpy as np\n",
    "from matplotlib import pyplot as plt\n",
    "%matplotlib inline\n",
    "import scipy.stats as st\n",
    "\n",
    "HTTP_response = urllib.request.urlopen('http://www.hpca.ual.es/~vruiz/images/lena.png')\n",
    "arr = np.asarray(bytearray(HTTP_response.read()), dtype=np.uint8)\n",
    "BGR = cv2.imdecode(arr,-1)\n",
    "Y = cv2.cvtColor(BGR, cv2.COLOR_BGR2YCrCb)[:,:,0]\n",
    "plt.figure(figsize = (10,10))\n",
    "plt.imshow(Y, cmap=\"gray\")"
   ]
  },
  {
   "cell_type": "markdown",
   "metadata": {},
   "source": [
    "\\# Applicamos ADF, sólo por ver qué pinta tiene la imagen filtrada ... luego comenzamos con el cálculo de la AD-DWT."
   ]
  },
  {
   "cell_type": "code",
   "execution_count": null,
   "metadata": {},
   "outputs": [],
   "source": [
    "from medpy.filter.smoothing import anisotropic_diffusion\n",
    "Y_filtered = anisotropic_diffusion(Y)\n",
    "plt.figure(figsize = (10,10))\n",
    "plt.imshow(Y_filtered, cmap=\"gray\")"
   ]
  },
  {
   "cell_type": "code",
   "execution_count": null,
   "metadata": {},
   "outputs": [],
   "source": [
    "diff = Y_filtered - Y\n",
    "plt.figure(figsize = (10,10))\n",
    "plt.imshow(diff, cmap=\"gray\")"
   ]
  },
  {
   "cell_type": "markdown",
   "metadata": {},
   "source": [
    "\\# ... y vemos que efectivamente se ha eliminado información (la imagen original y la filtrada no son iguales)."
   ]
  },
  {
   "cell_type": "markdown",
   "metadata": {},
   "source": [
    "## AD-DWT (un experimento)"
   ]
  },
  {
   "cell_type": "code",
   "execution_count": null,
   "metadata": {},
   "outputs": [],
   "source": [
    "import pywt\n",
    "\n",
    "# Sólo por ver los distintos filtros que hay disponibles\n",
    "print (pywt.wavelist())\n",
    "\n",
    "# Seleccionamos una en concreto \n",
    "#wavelet = 'db9' # http://wavelets.pybytes.com/wavelet/db9/\n",
    "#wavelet = 'haar'\n",
    "wavelet='bior3.5'"
   ]
  },
  {
   "cell_type": "code",
   "execution_count": null,
   "metadata": {},
   "outputs": [],
   "source": [
    "# (1) Calculamos la DWT estándar de la imagen\n",
    "LL, (LH, HL, HH) = pywt.dwt2(Y, wavelet)"
   ]
  },
  {
   "cell_type": "code",
   "execution_count": null,
   "metadata": {},
   "outputs": [],
   "source": [
    "# Por pura curiosidad miramos las subbandas ...\n",
    "plt.imshow(LL, cmap='gray')"
   ]
  },
  {
   "cell_type": "code",
   "execution_count": null,
   "metadata": {},
   "outputs": [],
   "source": [
    "plt.imshow(LH, cmap='gray')"
   ]
  },
  {
   "cell_type": "code",
   "execution_count": null,
   "metadata": {},
   "outputs": [],
   "source": [
    "# ... y visualizamos su histograma\n",
    "hist = cv2.calcHist([LH.astype('uint8')+128], [0], None, [256], [0, 256])\n",
    "plt.plot(hist)\n",
    "plt.xlim([0,256])\n",
    "plt.show()"
   ]
  },
  {
   "cell_type": "code",
   "execution_count": null,
   "metadata": {},
   "outputs": [],
   "source": [
    "plt.imshow(HL, cmap='gray')"
   ]
  },
  {
   "cell_type": "code",
   "execution_count": null,
   "metadata": {},
   "outputs": [],
   "source": [
    "hist = cv2.calcHist([HL.astype('uint8')+128], [0], None, [256], [0, 256])\n",
    "plt.plot(hist)\n",
    "plt.xlim([0,256])\n",
    "plt.show()"
   ]
  },
  {
   "cell_type": "code",
   "execution_count": null,
   "metadata": {},
   "outputs": [],
   "source": [
    "plt.imshow(HH, cmap='gray')"
   ]
  },
  {
   "cell_type": "code",
   "execution_count": null,
   "metadata": {},
   "outputs": [],
   "source": [
    "hist = cv2.calcHist([HH.astype('uint8')+128], [0], None, [256], [0, 256])\n",
    "plt.plot(hist)\n",
    "plt.xlim([0,256])\n",
    "plt.show()"
   ]
  },
  {
   "cell_type": "code",
   "execution_count": null,
   "metadata": {},
   "outputs": [],
   "source": [
    "# Definimos una matriz de ceros con las dimensiones de una subbanda. Nos va a servir para interpolar\n",
    "# y para encontrar la representación no crítica (en 3 subbandas LH, HL y HH) para la subbanda H.\n",
    "zero_subband = np.zeros(HH.shape, np.float64)"
   ]
  },
  {
   "cell_type": "code",
   "execution_count": null,
   "metadata": {},
   "outputs": [],
   "source": [
    "# (2) Generamos la subbanda H (representación no crítica de LH, HL y HH).\n",
    "H = pywt.idwt2((zero_subband, (LH, HL, HH)), wavelet)"
   ]
  },
  {
   "cell_type": "code",
   "execution_count": null,
   "metadata": {},
   "outputs": [],
   "source": [
    "plt.imshow(H, cmap='gray')"
   ]
  },
  {
   "cell_type": "code",
   "execution_count": null,
   "metadata": {},
   "outputs": [],
   "source": [
    "# (3) Generamos la versión interpolada de LL.\n",
    "H_zero = (zero_subband, zero_subband, zero_subband)\n",
    "LL2 = pywt.idwt2((LL, H_zero), wavelet)"
   ]
  },
  {
   "cell_type": "code",
   "execution_count": null,
   "metadata": {},
   "outputs": [],
   "source": [
    "plt.figure(figsize = (10,10))\n",
    "plt.imshow(LL2, cmap='gray')"
   ]
  },
  {
   "cell_type": "code",
   "execution_count": null,
   "metadata": {},
   "outputs": [],
   "source": [
    "# (4) Aplicamos ADF.\n",
    "LL2f = anisotropic_diffusion(LL2)"
   ]
  },
  {
   "cell_type": "code",
   "execution_count": null,
   "metadata": {},
   "outputs": [],
   "source": [
    "# LL2 filtrada.\n",
    "plt.figure(figsize = (10,10))\n",
    "plt.imshow(LL2f, cmap='gray')"
   ]
  },
  {
   "cell_type": "code",
   "execution_count": null,
   "metadata": {},
   "outputs": [],
   "source": [
    "# Imagen original.\n",
    "plt.figure(figsize = (10,10))\n",
    "plt.imshow(Y, cmap='gray')"
   ]
  },
  {
   "cell_type": "code",
   "execution_count": null,
   "metadata": {},
   "outputs": [],
   "source": [
    "# Información eliminada por el filtrado.\n",
    "diff = LL2 - LL2f\n",
    "plt.figure(figsize = (10,10))\n",
    "plt.imshow(diff, cmap='gray')"
   ]
  },
  {
   "cell_type": "code",
   "execution_count": null,
   "metadata": {},
   "outputs": [],
   "source": [
    "# Diferencias entre la imagen original y la interpolada con la mitad de las bajas frecuencias.\n",
    "diff_1 = Y - LL2\n",
    "plt.imshow(diff_1, cmap='gray')"
   ]
  },
  {
   "cell_type": "code",
   "execution_count": null,
   "metadata": {},
   "outputs": [],
   "source": [
    "# Diferencieas entre la imagen origina y la interpolada + filtrada con ADF.\n",
    "diff_2 = Y - LL2f\n",
    "plt.imshow(diff_2, cmap='gray')"
   ]
  },
  {
   "cell_type": "code",
   "execution_count": null,
   "metadata": {},
   "outputs": [],
   "source": [
    "# Ambos residuos parecen idénticos, sin embargo no lo son ...\n",
    "hist_1 = cv2.calcHist([diff_1.astype('uint8')+128], [0], None, [256], [0, 256])\n",
    "plt.plot(hist_1, color = 'r')\n",
    "hist_2 = cv2.calcHist([diff_2.astype('uint8')+138], [0], None, [256], [0, 256])\n",
    "plt.plot(hist_2, color = 'g')\n",
    "#plt.xlim([0,256])\n",
    "#plt.ylim([0,10000])\n",
    "plt.show()"
   ]
  },
  {
   "cell_type": "code",
   "execution_count": null,
   "metadata": {},
   "outputs": [],
   "source": [
    "# En teoría, entropy_2 debería ser menor o igual que entropy_1. Esto significaría que\n",
    "# el ADF mejoraría el parecido entre LL2 e Y. Sin embargo, con este filtro DWT, no es así.\n",
    "# Para otras transformadas DWT sí que se cumple que entropy_2 < entropy_1. Sin\n",
    "# embargo, este no es el fin último de la AD-DWT, que es reducir la entropía de H_Hf.\n",
    "entropy_1 = st.entropy(hist_1)[0]\n",
    "entropy_2 = st.entropy(hist_2)[0]\n",
    "print(\"Entropy_1={} Entropy_2={}\".format(entropy_1, entropy_2))"
   ]
  },
  {
   "cell_type": "code",
   "execution_count": null,
   "metadata": {},
   "outputs": [],
   "source": [
    "# (5) Calulamos la DWT de la imagen LL2f. En los coeficientes de alta frecuencia\n",
    "# (subbandas) lh, hl y hh tenemos los efectos del ADF. ll se descartará.\n",
    "ll, (lh, hl, hh) = pywt.dwt2(LL2f, wavelet)"
   ]
  },
  {
   "cell_type": "code",
   "execution_count": null,
   "metadata": {},
   "outputs": [],
   "source": [
    "# (6) Encontramos la representación no crítica de lh, hl y hh.\n",
    "Hf = pywt.idwt2((zero_subband, (lh, hl, hh)), wavelet)"
   ]
  },
  {
   "cell_type": "code",
   "execution_count": null,
   "metadata": {},
   "outputs": [],
   "source": [
    "plt.imshow(Hf, cmap='gray')"
   ]
  },
  {
   "cell_type": "code",
   "execution_count": null,
   "metadata": {},
   "outputs": [],
   "source": [
    "plt.imshow(H, cmap='gray')"
   ]
  },
  {
   "cell_type": "code",
   "execution_count": null,
   "metadata": {},
   "outputs": [],
   "source": [
    "# (7) restamos a la subbanda H (generada por la DWT estándar) la subbnda Hf\n",
    "# (generada a partir de LL y el ADF).\n",
    "H_Hf = H - Hf"
   ]
  },
  {
   "cell_type": "code",
   "execution_count": null,
   "metadata": {},
   "outputs": [],
   "source": [
    "plt.imshow(H_Hf, cmap='gray')"
   ]
  },
  {
   "cell_type": "code",
   "execution_count": null,
   "metadata": {},
   "outputs": [],
   "source": [
    "# Calculamos los histogramas de ambas subbandas H (la que queremos mejorar)\n",
    "# y H_Hf (la mejorada).\n",
    "hist_1 = cv2.calcHist([H.astype('uint8')+128], [0], None, [256], [0, 256])\n",
    "plt.plot(hist_1, color = 'r')\n",
    "hist_2 = cv2.calcHist([H_Hf.astype('uint8')+138], [0], None, [256], [0, 256])\n",
    "plt.plot(hist_2, color = 'g')\n",
    "#plt.xlim([0,256])\n",
    "#plt.ylim([0,10000])\n",
    "plt.show()"
   ]
  },
  {
   "cell_type": "code",
   "execution_count": null,
   "metadata": {},
   "outputs": [],
   "source": [
    "# De nuevo, los histogramas son muy parecidos y es mejor mirar las entropías.\n",
    "# Ahora sí ocurre que entropy_2 (la entropía de H_Hf) es menor que entropy_1\n",
    "# (la entropía de H).\n",
    "entropy_1 = st.entropy(hist_1)[0]\n",
    "entropy_2 = st.entropy(hist_2)[0]\n",
    "print(\"Entropy_1={} Entropy_2={}\".format(entropy_1, entropy_2))"
   ]
  },
  {
   "cell_type": "code",
   "execution_count": null,
   "metadata": {},
   "outputs": [],
   "source": [
    "# (8) Calculamos la representación crítica para H_Hf. \n",
    "LLf, (LHf, HLf, HHf) = pywt.dwt2(H_Hf, wavelet)"
   ]
  },
  {
   "cell_type": "code",
   "execution_count": null,
   "metadata": {},
   "outputs": [],
   "source": [
    "# La subbanda LLf debería ser 0. Si aparece energía probablemente se deba a que \n",
    "# los filtros de la DWT introducen un error por redondeo al tratarse de filtros\n",
    "# con coeficientes reales.\n",
    "plt.imshow(LLf, cmap=\"gray\")"
   ]
  },
  {
   "cell_type": "code",
   "execution_count": null,
   "metadata": {},
   "outputs": [],
   "source": [
    "plt.imshow(LHf, cmap=\"gray\")"
   ]
  },
  {
   "cell_type": "code",
   "execution_count": null,
   "metadata": {},
   "outputs": [],
   "source": [
    "plt.imshow(HLf, cmap=\"gray\")"
   ]
  },
  {
   "cell_type": "code",
   "execution_count": null,
   "metadata": {},
   "outputs": [],
   "source": [
    "plt.imshow(HHf, cmap=\"gray\")"
   ]
  }
 ],
 "metadata": {
  "kernelspec": {
   "display_name": "Python 3",
   "language": "python",
   "name": "python3"
  },
  "language_info": {
   "codemirror_mode": {
    "name": "ipython",
    "version": 3
   },
   "file_extension": ".py",
   "mimetype": "text/x-python",
   "name": "python",
   "nbconvert_exporter": "python",
   "pygments_lexer": "ipython3",
   "version": "3.6.4"
  }
 },
 "nbformat": 4,
 "nbformat_minor": 1
}
